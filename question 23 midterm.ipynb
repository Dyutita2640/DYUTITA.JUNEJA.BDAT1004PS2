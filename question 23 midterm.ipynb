{
 "cells": [
  {
   "cell_type": "code",
   "execution_count": 17,
   "metadata": {},
   "outputs": [
    {
     "data": {
      "text/plain": [
       "1"
      ]
     },
     "execution_count": 17,
     "metadata": {},
     "output_type": "execute_result"
    }
   ],
   "source": [
    "class PriorityQueue:\n",
    "    def __init__(my):\n",
    "        my.queue=[]\n",
    "        \n",
    "    def insert(my, abc):\n",
    "        my.queue.append(abc)\n",
    "        \n",
    "    def min(my):\n",
    "        if my.isEmpty():\n",
    "            return None\n",
    "        return min(my.queue)\n",
    "        \n",
    "    def removeMin(my):\n",
    "        if my.isEmpty():\n",
    "            return None\n",
    "        minIndex = my.queue.index(min(my.queue))\n",
    "        return my.queue.pop(minIndex)\n",
    "    \n",
    "    def isEmpty(my):\n",
    "        return len(my.queue) == 0\n",
    "    \n",
    "    def __len__(my):\n",
    "        return len(my.queue)\n",
    "    \n",
    "pq = PriorityQueue() \n",
    "pq.insert(3)  \n",
    "pq.insert(1)  \n",
    "pq.insert(5)   \n",
    "pq.insert(2)  \n",
    "pq.min()  \n"
   ]
  },
  {
   "cell_type": "code",
   "execution_count": 18,
   "metadata": {},
   "outputs": [
    {
     "data": {
      "text/plain": [
       "1"
      ]
     },
     "execution_count": 18,
     "metadata": {},
     "output_type": "execute_result"
    }
   ],
   "source": [
    "pq.min()"
   ]
  },
  {
   "cell_type": "code",
   "execution_count": 19,
   "metadata": {},
   "outputs": [
    {
     "data": {
      "text/plain": [
       "4"
      ]
     },
     "execution_count": 19,
     "metadata": {},
     "output_type": "execute_result"
    }
   ],
   "source": [
    "len(pq)"
   ]
  },
  {
   "cell_type": "code",
   "execution_count": 20,
   "metadata": {},
   "outputs": [
    {
     "data": {
      "text/plain": [
       "False"
      ]
     },
     "execution_count": 20,
     "metadata": {},
     "output_type": "execute_result"
    }
   ],
   "source": [
    "pq.isEmpty()"
   ]
  },
  {
   "cell_type": "code",
   "execution_count": 21,
   "metadata": {},
   "outputs": [
    {
     "data": {
      "text/plain": [
       "1"
      ]
     },
     "execution_count": 21,
     "metadata": {},
     "output_type": "execute_result"
    }
   ],
   "source": [
    "pq.removeMin()"
   ]
  },
  {
   "cell_type": "code",
   "execution_count": null,
   "metadata": {},
   "outputs": [],
   "source": []
  }
 ],
 "metadata": {
  "kernelspec": {
   "display_name": "Python 3",
   "language": "python",
   "name": "python3"
  },
  "language_info": {
   "codemirror_mode": {
    "name": "ipython",
    "version": 3
   },
   "file_extension": ".py",
   "mimetype": "text/x-python",
   "name": "python",
   "nbconvert_exporter": "python",
   "pygments_lexer": "ipython3",
   "version": "3.8.5"
  }
 },
 "nbformat": 4,
 "nbformat_minor": 4
}
